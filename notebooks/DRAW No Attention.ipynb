{
 "metadata": {
  "language_info": {
   "codemirror_mode": {
    "name": "ipython",
    "version": 3
   },
   "file_extension": ".py",
   "mimetype": "text/x-python",
   "name": "python",
   "nbconvert_exporter": "python",
   "pygments_lexer": "ipython3",
   "version": "3.8.8"
  },
  "orig_nbformat": 2,
  "kernelspec": {
   "name": "python388jvsc74a57bd001cb84de86a5208407a6e18e6a90b135c2a22450b27d071bcb13d33d8110182d",
   "display_name": "Python 3.8.8 64-bit"
  },
  "metadata": {
   "interpreter": {
    "hash": "01cb84de86a5208407a6e18e6a90b135c2a22450b27d071bcb13d33d8110182d"
   }
  }
 },
 "nbformat": 4,
 "nbformat_minor": 2,
 "cells": [
  {
   "cell_type": "code",
   "execution_count": null,
   "metadata": {},
   "outputs": [],
   "source": [
    "import numpy as np\n",
    "import torch\n",
    "from torch.utils.data import DataLoader\n",
    "from torchvision.datasets import MNIST\n",
    "from torchvision import transforms\n",
    "from torchvision.utils import save_image\n",
    "\n",
    "# own imports\n",
    "import sys\n",
    "sys.path.append(\"../../ml-library/\")\n",
    "\n",
    "from models import DRAW\n",
    "from layers import BaseAttention, #compute_filterbank\n",
    "\n",
    "cuda = torch.cuda.is_available()\n",
    "device = torch.device(\"cuda:0\" if cuda else \"cpu\")\n",
    "print(device)"
   ]
  },
  {
   "cell_type": "code",
   "execution_count": null,
   "metadata": {},
   "outputs": [],
   "source": []
  },
  {
   "source": [
    "# Load Binarized MNIST Data"
   ],
   "cell_type": "markdown",
   "metadata": {}
  },
  {
   "cell_type": "code",
   "execution_count": null,
   "metadata": {},
   "outputs": [],
   "source": [
    "# Define batch size\n",
    "BATCH_SIZE = 64"
   ]
  },
  {
   "cell_type": "code",
   "execution_count": null,
   "metadata": {},
   "outputs": [],
   "source": [
    "# Load the data\n",
    "mnist_data = MNIST(\n",
    "    './MNIST', \n",
    "    download=False,\n",
    "    transform=transforms.Compose([\n",
    "        transforms.ToTensor(),\n",
    "        transforms.Lambda(lambda x: torch.bernoulli(x))\n",
    "    ])\n",
    ")\n",
    "\n",
    "kwargs = {'num_workers': 2, 'pin_memory': True} if cuda else {}\n",
    "data_loader = DataLoader(\n",
    "    mnist_data,\n",
    "    batch_size=BATCH_SIZE,\n",
    "    shuffle=True,\n",
    "    **kwargs\n",
    ")"
   ]
  },
  {
   "cell_type": "code",
   "execution_count": null,
   "metadata": {},
   "outputs": [],
   "source": [
    "# plot some exampels\n",
    "data_iter = iter(data_loader)\n",
    "images, labels = data_iter.next()\n",
    "\n",
    "f, ax = plt.subplots(1, N, figsize=(3*N, 6))\n",
    "for i in range(N):\n",
    "    if N == 1:\n",
    "        ax.imshow(images[i, 0], cmap='gray')\n",
    "        ax.set_title(f'Label: {labels[i]}')\n",
    "        ax.axis('off')\n",
    "    else:\n",
    "        ax[i].imshow(images[i, 0], cmap='gray')\n",
    "        ax[i].set_title(f'Label: {labels[i]}')\n",
    "        ax[i].axis('off')\n",
    "plt.show()"
   ]
  },
  {
   "cell_type": "code",
   "execution_count": null,
   "metadata": {},
   "outputs": [],
   "source": [
    "# "
   ]
  },
  {
   "cell_type": "code",
   "execution_count": null,
   "metadata": {},
   "outputs": [],
   "source": [
    "def crop_img(img, xr, yr):\n",
    "    return img[yr[0]:yr[1], xr[0]:xr[1]]\n",
    "\n",
    "def filter_img(img, F_X, F_Y, log_gamma):\n",
    "    return np.exp(log_g) * F_Y @ img @ F_X.T"
   ]
  },
  {
   "cell_type": "code",
   "execution_count": null,
   "metadata": {},
   "outputs": [],
   "source": []
  },
  {
   "source": [
    "# Train DRAW Model"
   ],
   "cell_type": "markdown",
   "metadata": {}
  },
  {
   "cell_type": "code",
   "execution_count": null,
   "metadata": {},
   "outputs": [],
   "source": [
    "# create model and optimizer\n",
    "model = DRAW(x_dim=784, h_dim=256, z_dim=16, T=10).to(device)\n",
    "optimizer = torch.optim.Adam(model.parameters(), lr=1e-3, betas=(0.5, 0.999))\n",
    "scheduler = torch.optim.lr_scheduler.StepLR(optimizer, 10, 0.5)\n",
    "\n",
    "# loss\n",
    "loss = nn.BCELoss(reduction='none').to(device)"
   ]
  },
  {
   "cell_type": "code",
   "execution_count": null,
   "metadata": {},
   "outputs": [],
   "source": [
    "EPOCHS = 100"
   ]
  },
  {
   "cell_type": "code",
   "execution_count": null,
   "metadata": {},
   "outputs": [],
   "source": [
    "# training loop\n",
    "for epoch in range(EPOCHS):\n",
    "    model.train()\n",
    "    for x, _ in tqdm(data_loader):\n",
    "        batch_size = x.size(0)\n",
    "\n",
    "        x = x.view(batch_size, -1).to(device)\n",
    "\n",
    "        x_hat, kld = model(x)\n",
    "        x_hat = torch.sigmoid(x_hat)\n",
    "\n",
    "        reconstruction = loss(x_hat, x).sum(1)\n",
    "        kl = kld.sum(1)\n",
    "        elbo = torch.mean(reconstruction + kl)\n",
    "\n",
    "        elbo.backward()\n",
    "        optimizer.step()\n",
    "        optimizer.zero_grad()\n",
    "    \n",
    "    scheduler.step()\n",
    "\n",
    "    # Evaluate on test set\n",
    "    # 1 forward pass in test set for loss\n",
    "    model.eval()\n",
    "    with torch.no_grad():\n",
    "\n",
    "        if epoch % 1 == 0:\n",
    "          \n",
    "        \n",
    "        # print train loss and save sample + recon\n",
    "        if epoch % 10 == 0:\n",
    "            print(\"\\nLoss at step {}: {}\".format(epoch, elbo.item()))\n",
    "            x_sample = model.sample()\n",
    "            save_image(x_hat, \"reconstruction-{}.jpg\".format(epoch))\n",
    "            save_image(x_sample, \"sample-{}.jpg\".format(epoch))"
   ]
  },
  {
   "source": [
    "# Plot Samples"
   ],
   "cell_type": "markdown",
   "metadata": {}
  },
  {
   "cell_type": "code",
   "execution_count": null,
   "metadata": {},
   "outputs": [],
   "source": [
    "from matplotlib import image"
   ]
  },
  {
   "cell_type": "code",
   "execution_count": null,
   "metadata": {},
   "outputs": [],
   "source": [
    "img = image.imread('reconstruction-99.jpg')[:, :, 0]\n",
    "\n",
    "f, ax = plt.subplots(4, 8, figsize=(16,8))\n",
    "for i in range(8):\n",
    "    idx = i*4\n",
    "\n",
    "    for j in range(4):\n",
    "        ax[j, i].imshow(np.reshape(img[idx+j, :], (28,28)), cmap='gray')\n",
    "        ax[j, i].axis('off')\n",
    "plt.show()"
   ]
  },
  {
   "cell_type": "code",
   "execution_count": null,
   "metadata": {},
   "outputs": [],
   "source": [
    "img = image.imread('sample-99.jpg')[:, :, 0]\n",
    "\n",
    "f, ax = plt.subplots(4, 8, figsize=(16,8))\n",
    "for i in range(8):\n",
    "    idx = i*4\n",
    "\n",
    "    for j in range(4):\n",
    "        ax[j, i].imshow(np.reshape(img[idx+j, :], (28,28)), cmap='gray')\n",
    "        ax[j, i].axis('off')\n",
    "plt.show()"
   ]
  }
 ]
}