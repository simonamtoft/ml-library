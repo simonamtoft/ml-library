{
 "metadata": {
  "language_info": {
   "codemirror_mode": {
    "name": "ipython",
    "version": 3
   },
   "file_extension": ".py",
   "mimetype": "text/x-python",
   "name": "python",
   "nbconvert_exporter": "python",
   "pygments_lexer": "ipython3",
   "version": "3.8.8-final"
  },
  "orig_nbformat": 2,
  "kernelspec": {
   "name": "python3",
   "display_name": "Python 3.8.8 64-bit",
   "metadata": {
    "interpreter": {
     "hash": "01cb84de86a5208407a6e18e6a90b135c2a22450b27d071bcb13d33d8110182d"
    }
   }
  }
 },
 "nbformat": 4,
 "nbformat_minor": 2,
 "cells": [
  {
   "cell_type": "code",
   "execution_count": 1,
   "metadata": {},
   "outputs": [],
   "source": [
    "# standard imports\n",
    "import torch\n",
    "import numpy as np\n",
    "import matplotlib.pyplot as plt\n",
    "%matplotlib inline"
   ]
  },
  {
   "cell_type": "code",
   "execution_count": 2,
   "metadata": {},
   "outputs": [],
   "source": [
    "# own imports\n",
    "import sys\n",
    "sys.path.append(\"../../ml-library/\")\n",
    "\n",
    "from models import VariationalAutoencoder\n",
    "from layers import GaussianSample\n",
    "from data import get_mnist"
   ]
  },
  {
   "cell_type": "code",
   "execution_count": 3,
   "metadata": {},
   "outputs": [
    {
     "output_type": "stream",
     "name": "stdout",
     "text": [
      "Using device cuda:0\n"
     ]
    }
   ],
   "source": [
    "# set device\n",
    "if torch.cuda.is_available():\n",
    "    device = \"cuda:0\"\n",
    "    torch.cuda.empty_cache()\n",
    "else: \n",
    "    device = \"cpu\"\n",
    "\n",
    "print(f\"Using device {device}\")"
   ]
  },
  {
   "source": [
    "# Model Definition"
   ],
   "cell_type": "markdown",
   "metadata": {}
  },
  {
   "cell_type": "code",
   "execution_count": 4,
   "metadata": {},
   "outputs": [],
   "source": [
    "# Model Parameters\n",
    "x_dim   = 784\n",
    "z_dim   = 32\n",
    "h_dims  = [256, 128]"
   ]
  },
  {
   "cell_type": "code",
   "execution_count": 5,
   "metadata": {},
   "outputs": [
    {
     "output_type": "stream",
     "name": "stderr",
     "text": [
      "../../ml-library\\models\\vae.py:144: UserWarning: nn.init.xavier_normal is now deprecated in favor of nn.init.xavier_normal_.\n",
      "  init.xavier_normal(m.weight.data)\n",
      "VariationalAutoencoder(\n",
      "  (encoder): Encoder(\n",
      "    (hidden): ModuleList(\n",
      "      (0): Linear(in_features=784, out_features=256, bias=True)\n",
      "      (1): Linear(in_features=256, out_features=128, bias=True)\n",
      "    )\n",
      "    (sample): GaussianSample(\n",
      "      (mu): Linear(in_features=128, out_features=32, bias=True)\n",
      "      (log_var): Linear(in_features=128, out_features=32, bias=True)\n",
      "    )\n",
      "  )\n",
      "  (decoder): Decoder(\n",
      "    (hidden): ModuleList(\n",
      "      (0): Linear(in_features=32, out_features=128, bias=True)\n",
      "      (1): Linear(in_features=128, out_features=256, bias=True)\n",
      "    )\n",
      "    (reconstruction): Linear(in_features=256, out_features=784, bias=True)\n",
      "    (activation): Sigmoid()\n",
      "  )\n",
      ")\n"
     ]
    }
   ],
   "source": [
    "# Define model (and port to device)\n",
    "model = VariationalAutoencoder([x_dim, z_dim, h_dims])\n",
    "model.to(device)\n",
    "\n",
    "print(model)\n",
    "\n",
    "# Check if model is on cuda\n",
    "# next(model.parameters()).is_cuda"
   ]
  },
  {
   "source": [
    "# Training\n",
    "\n",
    "Uses functionality from /data/gen_mnist.py"
   ],
   "cell_type": "markdown",
   "metadata": {}
  },
  {
   "cell_type": "code",
   "execution_count": null,
   "metadata": {},
   "outputs": [],
   "source": [
    "train, test = get_mnist(batch_size=64)"
   ]
  },
  {
   "cell_type": "code",
   "execution_count": null,
   "metadata": {},
   "outputs": [],
   "source": [
    "# import loss function\n",
    "from losses import binary_cross_entropy as loss_function"
   ]
  },
  {
   "cell_type": "code",
   "execution_count": null,
   "metadata": {},
   "outputs": [],
   "source": [
    "# define optimizer\n",
    "optimizer = torch.optim.Adam(model.parameters(), lr=3e-4, betas=(0.9, 0.999))"
   ]
  },
  {
   "cell_type": "code",
   "execution_count": null,
   "metadata": {},
   "outputs": [],
   "source": [
    "from torch.autograd import Variable\n",
    "# Training Loop\n",
    "for epoch in range(50):\n",
    "    model.train()\n",
    "    total_loss = 0\n",
    "    for u, _ in iter(train):\n",
    "        u = Variable(u).to(device)\n",
    "\n",
    "        reconstruction = model(u)\n",
    "        \n",
    "        likelihood = -loss_function(reconstruction, u)\n",
    "        elbo = likelihood - model.kld\n",
    "        \n",
    "        L = -torch.mean(elbo)\n",
    "\n",
    "        L.backward()\n",
    "        optimizer.step()\n",
    "        optimizer.zero_grad()\n",
    "\n",
    "        total_loss += L.data.item()\n",
    "\n",
    "    if epoch % 10 == 0:\n",
    "        print(f\"Epoch: {epoch}\\tL: {total_loss/len(train):.2f}\")"
   ]
  },
  {
   "cell_type": "code",
   "execution_count": null,
   "metadata": {},
   "outputs": [],
   "source": [
    "model.eval()\n",
    "z_prior = Variable(torch.randn(16, 32)).to(device)\n",
    "\n",
    "x_mu = model.sample(z_prior)"
   ]
  },
  {
   "cell_type": "code",
   "execution_count": null,
   "metadata": {},
   "outputs": [],
   "source": [
    "f, axarr = plt.subplots(4, 4, figsize=(18, 12))\n",
    "\n",
    "samples = x_mu.data.view(-1, 28, 28).cpu().numpy()\n",
    "\n",
    "for i, ax in enumerate(axarr.flat):\n",
    "    ax.imshow(samples[i])\n",
    "    ax.axis(\"off\")"
   ]
  },
  {
   "cell_type": "code",
   "execution_count": null,
   "metadata": {},
   "outputs": [],
   "source": []
  }
 ]
}