{
  "nbformat": 4,
  "nbformat_minor": 0,
  "metadata": {
    "colab": {
      "name": "Variational Autoencoder.ipynb",
      "provenance": [],
      "collapsed_sections": [
        "jzbnne0zY2up",
        "zSDlxvo4YxyG"
      ]
    },
    "kernelspec": {
      "name": "python3",
      "display_name": "Python 3"
    },
    "language_info": {
      "name": "python"
    },
    "accelerator": "GPU"
  },
  "cells": [
    {
      "cell_type": "markdown",
      "metadata": {
        "id": "jzbnne0zY2up"
      },
      "source": [
        "# Setup Notebook"
      ]
    },
    {
      "cell_type": "markdown",
      "metadata": {
        "id": "J7696G1QY_8Q"
      },
      "source": [
        "Import standard libraries "
      ]
    },
    {
      "cell_type": "code",
      "metadata": {
        "id": "hmWPcZkYZoW4"
      },
      "source": [
        "# Install weights and biases\n",
        "!pip install wandb > /dev/null"
      ],
      "execution_count": null,
      "outputs": []
    },
    {
      "cell_type": "code",
      "metadata": {
        "id": "1zmlGAyqYpdX"
      },
      "source": [
        "import sys, os\n",
        "import numpy as np\n",
        "import matplotlib.pyplot as plt\n",
        "import torch\n",
        "from torch.utils.data import DataLoader\n",
        "from torchvision.datasets import MNIST\n",
        "from torchvision import transforms\n",
        "\n",
        "device = torch.device('cuda' if torch.cuda.is_available() else 'cpu')"
      ],
      "execution_count": null,
      "outputs": []
    },
    {
      "cell_type": "markdown",
      "metadata": {
        "id": "V7qSUUlsZCiB"
      },
      "source": [
        "Setup repo from GitHub"
      ]
    },
    {
      "cell_type": "code",
      "metadata": {
        "colab": {
          "base_uri": "https://localhost:8080/"
        },
        "id": "LgpvXD7bZCqG",
        "outputId": "a643cb68-3e06-459e-cab0-ce908d07167b"
      },
      "source": [
        "# setup repo from GitHub\n",
        "if os.path.exists('./ml-library'):\n",
        "    !rm -r ml-library > /dev/null\n",
        "!git clone https://github.com/simonamtoft/ml-library > /dev/null\n",
        "sys.path.append('ml-library')\n",
        "\n",
        "from models import VariationalAutoencoder\n",
        "from training import train_vae"
      ],
      "execution_count": null,
      "outputs": []
    },
    {
      "cell_type": "markdown",
      "metadata": {
        "id": "g9w_JIbPY77a"
      },
      "source": [
        "Download binarized MNIST data"
      ]
    },
    {
      "cell_type": "code",
      "metadata": {
        "colab": {
          "base_uri": "https://localhost:8080/"
        },
        "id": "x_63Fxm1Ypgj",
        "outputId": "516fa334-dfbd-4e50-d422-b7e0bfc14a6c"
      },
      "source": [
        "def tmp_lambda(x):\n",
        "    return torch.bernoulli(x)\n",
        "\n",
        "transform = transforms.Compose([\n",
        "    transforms.ToTensor(),\n",
        "    transforms.Lambda(tmp_lambda)\n",
        "])\n",
        "\n",
        "train_data = MNIST('./', train=True, download=True, transform=transform)\n",
        "test_data = MNIST('./', train=False, download=True, transform=transform)"
      ],
      "execution_count": null,
      "outputs": []
    },
    {
      "cell_type": "markdown",
      "metadata": {
        "id": "YEeSrX_SY5kA"
      },
      "source": [
        "# Variational Autoencoder"
      ]
    },
    {
      "cell_type": "code",
      "metadata": {
        "id": "CbEPZKwTYpi1"
      },
      "source": [
        "# Define config\n",
        "config = {\n",
        "    'batch_size': 64,\n",
        "    'epochs': 250,\n",
        "    'lr': 3e-4,\n",
        "    'h_dim': [512, 256, 256, 256],\n",
        "    'z_dim': 128, \n",
        "    'as_beta': False\n",
        "}"
      ],
      "execution_count": null,
      "outputs": []
    },
    {
      "cell_type": "markdown",
      "metadata": {
        "id": "zSDlxvo4YxyG"
      },
      "source": [
        "## Convert to Data Loaders"
      ]
    },
    {
      "cell_type": "code",
      "metadata": {
        "id": "cvyxsQspZShD"
      },
      "source": [
        "# split into training and validation sets\n",
        "train_set, val_set = torch.utils.data.random_split(train_data, [50000, 10000])"
      ],
      "execution_count": null,
      "outputs": []
    },
    {
      "cell_type": "code",
      "metadata": {
        "colab": {
          "base_uri": "https://localhost:8080/"
        },
        "id": "qE4s1Z8LYpk5",
        "outputId": "3045a10a-4918-496f-cea4-fdeb04f9dd44"
      },
      "source": [
        "# Setup data loader\n",
        "kwargs = {'num_workers': 4, 'pin_memory': True} if torch.cuda.is_available() else {}\n",
        "train_loader = DataLoader(\n",
        "    train_set,\n",
        "    batch_size=config['batch_size'],\n",
        "    shuffle=True,\n",
        "    **kwargs\n",
        ")\n",
        "val_loader = DataLoader(\n",
        "    val_set,\n",
        "    batch_size=config['batch_size'],\n",
        "    shuffle=True,\n",
        "    **kwargs\n",
        ")"
      ],
      "execution_count": null,
      "outputs": []
    },
    {
      "cell_type": "code",
      "metadata": {
        "colab": {
          "base_uri": "https://localhost:8080/",
          "height": 0
        },
        "id": "a3B7uodVZVOG",
        "outputId": "84493783-99e0-473c-a775-7fbf63ba323c"
      },
      "source": [
        "# Load a batch of images into memory\n",
        "images, labels = next(iter(train_loader))\n",
        "\n",
        "# plot a few MNIST examples\n",
        "f, axarr = plt.subplots(4, 16, figsize=(16, 4))\n",
        "for i, ax in enumerate(axarr.flat):\n",
        "    ax.imshow(images[i].view(28, 28), cmap=\"binary_r\")\n",
        "    ax.axis('off')\n",
        "    \n",
        "plt.suptitle('MNIST handwritten digits')\n",
        "plt.show()"
      ],
      "execution_count": null,
      "outputs": []
    },
    {
      "cell_type": "code",
      "metadata": {
        "colab": {
          "base_uri": "https://localhost:8080/"
        },
        "id": "1wGXS3Dbb3jX",
        "outputId": "4b51535d-45ff-4fce-a73a-9cbd82c5bce2"
      },
      "source": [
        "x_dim = images.shape[2]*images.shape[3] # 784\n",
        "print(x_dim)"
      ],
      "execution_count": null,
      "outputs": []
    },
    {
      "cell_type": "markdown",
      "metadata": {
        "id": "snLCyA68ZM7n"
      },
      "source": [
        "## Train and Inspect Results"
      ]
    },
    {
      "cell_type": "code",
      "metadata": {
        "id": "XoHGrpo9g8bZ"
      },
      "source": [
        "# !wandb login"
      ],
      "execution_count": null,
      "outputs": []
    },
    {
      "cell_type": "code",
      "metadata": {
        "id": "vm6Mp1H9bJFG"
      },
      "source": [
        "# Model Parameters\n",
        "h_dims  = config['h_dim']\n",
        "z_dim   = config['z_dim']"
      ],
      "execution_count": null,
      "outputs": []
    },
    {
      "cell_type": "code",
      "metadata": {
        "colab": {
          "base_uri": "https://localhost:8080/",
          "height": 1000
        },
        "id": "-q_NTGWSYz-4",
        "outputId": "b285dcd8-b1b4-485a-c319-63f42000dfd3"
      },
      "source": [
        "# Instantiate model\n",
        "model = VariationalAutoencoder([x_dim, h_dims, z_dim]).to(device)\n",
        "\n",
        "# Train model\n",
        "train_vae(model, config, train_loader, val_loader, 'vae')"
      ],
      "execution_count": null,
      "outputs": []
    },
    {
      "cell_type": "code",
      "metadata": {
        "id": "Jpl0FLcibJjV"
      },
      "source": [],
      "execution_count": null,
      "outputs": []
    }
  ]
}